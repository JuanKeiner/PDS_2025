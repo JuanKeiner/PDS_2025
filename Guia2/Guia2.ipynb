{
 "cells": [
  {
   "cell_type": "markdown",
   "metadata": {},
   "source": [
    "## Parte 1: Sistemas"
   ]
  },
  {
   "cell_type": "markdown",
   "metadata": {},
   "source": [
    "**Ejercicio 1:** Para cada uno de los siguientes sistemas determine si son causales, lineales, invariantes en el tiempo y si poseen memoria. En cada caso grafique la salida del sistema $y[n]$ para una entrada dada.\n",
    "\n",
    "1. $y[n] = g[n]x[n]$, donde $g[n] = A \\sin(\\omega n T)$ siendo $A$ constante, $\\omega = 2\\pi f$ y $T$ el período de muestreo.\n",
    "\n",
    "2. $y[n] = \\sum\\limits_{k=n-n_0}^{n+n_0} x[k]$\n",
    "\n",
    "3. $y[n] = x[n] + 2$\n",
    "\n",
    "4. $y[n] = n x[n]$"
   ]
  },
  {
   "cell_type": "markdown",
   "metadata": {},
   "source": [
    "**Ejercicio 2:** Considere el diagrama en bloques de la Figura 1 y encuentre la ecuación en diferencias para la señal de salida $y[n]$ en función de la señal de entrada $x[n]$."
   ]
  },
  {
   "cell_type": "markdown",
   "metadata": {},
   "source": [
    "**Ejercicio 3**: Considere el sistema LTI dado por la ecuación en diferencias:\n",
    "\n",
    "$$\n",
    "y[n] - 0.5y[n-1] + 0.25y[n-2] = x[n]\n",
    "$$\n",
    "\n",
    "(sistema inicialmente en reposo). Encuentre el diagrama en bloques que lo representa.\n"
   ]
  },
  {
   "cell_type": "markdown",
   "metadata": {},
   "source": [
    "## Parte 2: Convolución"
   ]
  },
  {
   "cell_type": "markdown",
   "metadata": {},
   "source": [
    "**Ejercicio 1:** Implemente la convolución lineal mediante una sumatoria de convolución. Pruébela para convolucionar dos señales cualesquiera de longitud $N$ muestras. Compare los resultados con los obtenidos mediante la función `conv(x,y)` y con la función `filter`.\n",
    "\n",
    "La función `Y = filter(B,A,X)` implementa la ecuación en diferencias, para los coeficientes dados en los vectores $A$ y $B$ y la señal de entrada $X$, según:\n",
    "\n",
    "$$\n",
    "a(1) \\cdot y(n) = b(1) \\cdot x(n) + b(2) \\cdot x(n-1) + \\dots - a(2) \\cdot y(n-1) - \\dots\n",
    "$$\n",
    "\n",
    "A partir de esto, determine los valores a ingresar en los vectores $A$ y $B$ para obtener la salida esperada."
   ]
  },
  {
   "cell_type": "code",
   "execution_count": null,
   "metadata": {},
   "outputs": [
    {
     "name": "stdout",
     "output_type": "stream",
     "text": [
      "x[0] * h[0] = 2 * 1 = 2\n",
      "x[1] * h[1] = 2 * 2 = 4\n",
      "x[1] * h[0] = 1 * 1 = 1\n",
      "x[2] * h[2] = 2 * 2 = 4\n",
      "x[2] * h[1] = 1 * 2 = 2\n",
      "x[2] * h[0] = 0.5 * 1 = 0.5\n",
      "x[3] * h[2] = 1 * 2 = 2\n",
      "x[3] * h[1] = 0.5 * 2 = 1.0\n",
      "x[4] * h[2] = 0.5 * 2 = 1.0\n",
      "Resultado de la convolución lineal: [2.  5.  6.5 3.  1. ]\n"
     ]
    }
   ],
   "source": [
    "import numpy as np\n",
    "def convolución_lineal(señal_x, señal_h):\n",
    "    N = len(señal_x)\n",
    "    M = len(señal_h)\n",
    "    N_muestras = N + M - 1\n",
    "    y = np.zeros(N_muestras)\n",
    "    for n in range(N_muestras):\n",
    "        suma = 0\n",
    "        for k in range(N):\n",
    "            if 0 <= (n - k) < M:\n",
    "                    suma += señal_x[k] * señal_h[n - k] \n",
    "                    print(f\"x[{n}] * h[{n - k}] = {señal_x[k]} * {señal_h[n - k]} = {señal_x[k] * señal_h[n - k]}\")        \n",
    "        y[n] = suma\n",
    "        \n",
    "    \n",
    "    return y \n",
    "\n",
    "result = convolución_lineal([2,1,.5],[1,2,2])\n",
    "\n",
    "print(\"Resultado de la convolución lineal:\", result)\n",
    "\n"
   ]
  },
  {
   "cell_type": "markdown",
   "metadata": {},
   "source": [
    "**Ejercicio 2:** Escriba una función que realice la convolución circular discreta (también llamada convolución periódica) entre dos señales $x[n]$ y $h[n]$, ambas de longitud $N$ muestras, utilizando ciclos `for`. En esta se debe considerar:\n",
    "\n",
    "- $x[n]$ como periódica\n",
    "- $h[n]$ nula fuera de su rango de definición\n",
    "\n",
    "La convolución circular se expresa mediante:\n",
    "\n",
    "$$\n",
    "y[k] = \\sum_{l=1}^{N} h[l] \\cdot x[((N + k - l) \\bmod N) + 1] \\quad \\text{para} \\quad 1 \\leq k \\leq N\n",
    "$$\n",
    "\n",
    "donde $mod$ es la operación módulo entero (resto de la división entera).\n"
   ]
  },
  {
   "cell_type": "code",
   "execution_count": null,
   "metadata": {},
   "outputs": [],
   "source": [
    "import numpy as np\n",
    "def convolución_circular(señal_x, señal_h , N_muestras):\n",
    "    y = np.zeros(N_muestras)\n",
    "    for k in range(0,N_muestras):\n",
    "        suma = 0\n",
    "        for l in range(0,N_muestras):\n",
    "            suma += señal_h[l] * señal_x[(N_muestras + k - l) % N_muestras] \n",
    "        y[k] = suma\n",
    "    \n",
    "    return y\n",
    "\n",
    "\n",
    "result = convolución_circular(señal_x = [1,2,3,4],señal_h =[2,1,2,1], N_muestras = 4)\n",
    "\n",
    "señal_x = [1, 2, 3, 4]\n",
    "señal_h = [2, 1, 2, 1]\n",
    "N_muestras = len(señal_x)\n",
    "\n",
    "\n",
    "\n",
    "plt.figure(figsize=(10, 6))\n",
    "\n",
    "\n",
    "plt.subplot(3, 1, 1)\n",
    "plt.stem(range(N_muestras), señal_x, 'r-*', label=\"Señal x[n]\")\n",
    "plt.title('Señal x[n]')\n",
    "plt.xlabel('n')\n",
    "plt.ylabel('Amplitud')\n",
    "plt.legend()\n",
    "plt.grid()\n",
    "\n",
    "\n",
    "plt.subplot(3, 1, 2)\n",
    "plt.stem(range(N_muestras), señal_h, 'b-o', label=\"Señal h[n]\")\n",
    "plt.title('Señal h[n]')\n",
    "plt.xlabel('n')\n",
    "plt.ylabel('Amplitud')\n",
    "plt.legend()\n",
    "plt.grid()\n",
    "\n",
    "\n",
    "plt.subplot(3, 1, 3)\n",
    "plt.stem(range(N_muestras), result, 'g-s', label=\"Convolución Circular y[n]\")\n",
    "plt.title('Convolución Circular y[n]')\n",
    "plt.xlabel('n')\n",
    "plt.ylabel('Amplitud')\n",
    "plt.legend()\n",
    "plt.grid()\n",
    "\n",
    "plt.tight_layout()\n",
    "plt.show()"
   ]
  }
 ],
 "metadata": {
  "kernelspec": {
   "display_name": "Python 3",
   "language": "python",
   "name": "python3"
  },
  "language_info": {
   "codemirror_mode": {
    "name": "ipython",
    "version": 3
   },
   "file_extension": ".py",
   "mimetype": "text/x-python",
   "name": "python",
   "nbconvert_exporter": "python",
   "pygments_lexer": "ipython3",
   "version": "3.13.2"
  }
 },
 "nbformat": 4,
 "nbformat_minor": 2
}
